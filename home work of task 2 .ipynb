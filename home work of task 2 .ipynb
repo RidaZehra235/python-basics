{
 "cells": [
  {
   "cell_type": "code",
   "execution_count": 1,
   "id": "32d153a3",
   "metadata": {},
   "outputs": [
    {
     "name": "stdout",
     "output_type": "stream",
     "text": [
      "6\n"
     ]
    }
   ],
   "source": []
  },
  {
   "cell_type": "markdown",
   "id": "b9f7d39d",
   "metadata": {},
   "source": [
    "● For each of the following expressions, what value will the expression give? Verify your\n",
    "answers by typing the expressions into Python.\n",
    "a. 9 - 3\n",
    "b. 8 * 2.5\n",
    "c. 9 / 2\n",
    "d. 9 / -2\n",
    "e. 9 // -2\n",
    "f. 9 % 2\n",
    "g. 9.0 % 2\n",
    "h. 9 % 2.0\n",
    "i. 9 % -2\n",
    "j. -9 % 2\n",
    "k. 9 / -2.0\n",
    "l. 4 + 3 * 5\n",
    "m. (4 + 3) * 5\n"
   ]
  },
  {
   "cell_type": "code",
   "execution_count": 2,
   "id": "0e98351b",
   "metadata": {},
   "outputs": [
    {
     "name": "stdout",
     "output_type": "stream",
     "text": [
      "6\n"
     ]
    }
   ],
   "source": [
    "print(9-3)"
   ]
  },
  {
   "cell_type": "code",
   "execution_count": 2,
   "id": "a9205afe",
   "metadata": {},
   "outputs": [
    {
     "name": "stdout",
     "output_type": "stream",
     "text": [
      "20.0\n"
     ]
    }
   ],
   "source": [
    "print(8 * 2.5)"
   ]
  },
  {
   "cell_type": "code",
   "execution_count": 3,
   "id": "df9dbb28",
   "metadata": {},
   "outputs": [
    {
     "name": "stdout",
     "output_type": "stream",
     "text": [
      "4.5\n"
     ]
    }
   ],
   "source": [
    "print(9 / 2)"
   ]
  },
  {
   "cell_type": "code",
   "execution_count": 4,
   "id": "761d4328",
   "metadata": {},
   "outputs": [
    {
     "name": "stdout",
     "output_type": "stream",
     "text": [
      "-4.5\n"
     ]
    }
   ],
   "source": [
    "print(9 /-2)"
   ]
  },
  {
   "cell_type": "code",
   "execution_count": 5,
   "id": "9b7ebd1e",
   "metadata": {},
   "outputs": [
    {
     "name": "stdout",
     "output_type": "stream",
     "text": [
      "-5\n"
     ]
    }
   ],
   "source": [
    "print(9 // -2)"
   ]
  },
  {
   "cell_type": "code",
   "execution_count": 6,
   "id": "b96444cf",
   "metadata": {},
   "outputs": [
    {
     "name": "stdout",
     "output_type": "stream",
     "text": [
      "1\n"
     ]
    }
   ],
   "source": [
    "print(9 % 2)"
   ]
  },
  {
   "cell_type": "code",
   "execution_count": 7,
   "id": "509d2c7e",
   "metadata": {},
   "outputs": [
    {
     "name": "stdout",
     "output_type": "stream",
     "text": [
      "1.0\n"
     ]
    }
   ],
   "source": [
    "print(9.0 % 2)"
   ]
  },
  {
   "cell_type": "code",
   "execution_count": 8,
   "id": "43d610fb",
   "metadata": {},
   "outputs": [
    {
     "name": "stdout",
     "output_type": "stream",
     "text": [
      "1.0\n"
     ]
    }
   ],
   "source": [
    "print(9 % 2.0)"
   ]
  },
  {
   "cell_type": "code",
   "execution_count": 9,
   "id": "0460b3f8",
   "metadata": {},
   "outputs": [
    {
     "name": "stdout",
     "output_type": "stream",
     "text": [
      "-1\n"
     ]
    }
   ],
   "source": [
    "print(9 % -2)"
   ]
  },
  {
   "cell_type": "code",
   "execution_count": 10,
   "id": "abc51538",
   "metadata": {},
   "outputs": [
    {
     "name": "stdout",
     "output_type": "stream",
     "text": [
      "1\n"
     ]
    }
   ],
   "source": [
    "print(-9 % 2)"
   ]
  },
  {
   "cell_type": "code",
   "execution_count": 11,
   "id": "9c09dba2",
   "metadata": {},
   "outputs": [
    {
     "name": "stdout",
     "output_type": "stream",
     "text": [
      "-4.5\n"
     ]
    }
   ],
   "source": [
    "print(9 / -2.0)"
   ]
  },
  {
   "cell_type": "code",
   "execution_count": 14,
   "id": "b730216f",
   "metadata": {},
   "outputs": [
    {
     "name": "stdout",
     "output_type": "stream",
     "text": [
      "35\n"
     ]
    }
   ],
   "source": [
    "print((4 + 3) * 5)"
   ]
  },
  {
   "cell_type": "code",
   "execution_count": 15,
   "id": "026d90b1",
   "metadata": {},
   "outputs": [
    {
     "name": "stdout",
     "output_type": "stream",
     "text": [
      "19\n"
     ]
    }
   ],
   "source": [
    "print(4 + 3 * 5)"
   ]
  },
  {
   "cell_type": "markdown",
   "id": "556c8d68",
   "metadata": {},
   "source": [
    "Create a variable x that stores an integer. Use the sep optional argument to print out x, 2x,\n",
    "3x, 4x, and 5x, each separated by three dashes, like below if x=7. (hint: use multiplication\n",
    "operator and print function)\n",
    "7---14---21---28---35"
   ]
  },
  {
   "cell_type": "code",
   "execution_count": 7,
   "id": "e51e40ef",
   "metadata": {},
   "outputs": [
    {
     "name": "stdout",
     "output_type": "stream",
     "text": [
      "7 --- 14 --- 21 --- 28 --- 35\n"
     ]
    }
   ],
   "source": [
    "x=7\n",
    "print(x,\"---\", 2*x,\"---\", 3*x,\"---\", 4*x,\"---\",5*x)"
   ]
  },
  {
   "cell_type": "markdown",
   "id": "e2efbc99",
   "metadata": {},
   "source": [
    "Write a program that asks the user to enter two numbers, obtains the two numbers from the\n",
    "user and prints the sum, product, difference, quotient and remainder of the two numbers.\n",
    "Sample output is as following:"
   ]
  },
  {
   "cell_type": "code",
   "execution_count": null,
   "id": "885fea6b",
   "metadata": {},
   "outputs": [],
   "source": [
    "num1 = int(input(\"enter first number\"))\n",
    "num2 = int(input(\"enter second number\"))\n",
    "print (num1+ num2)\n",
    "print (num1-num2 )\n",
    "print(num1*num2)\n",
    "print(num1/num2)\n",
    "print(num1%num2)"
   ]
  },
  {
   "cell_type": "code",
   "execution_count": null,
   "id": "16f7250c",
   "metadata": {},
   "outputs": [],
   "source": [
    "Write a program that reads in the radius of a circle and prints the circle’s diameter,\n",
    "circumference and area. Use the constant value 3.14159 for π. Perform each of these\n",
    "calculations inside the print statement(s)"
   ]
  },
  {
   "cell_type": "code",
   "execution_count": null,
   "id": "fba72e15",
   "metadata": {},
   "outputs": [],
   "source": [
    "radius =int(input(\"ENTER A radius\"))\n",
    "pi= 3.142\n",
    "print(\"diameter of circle: \", 2*radius)\n",
    "print(\"circumference of circle: \", 2*pi*radius)\n",
    "print(\"area of a circle:\", pi*radius*2)"
   ]
  },
  {
   "cell_type": "markdown",
   "id": "dd5d191e",
   "metadata": {},
   "source": [
    " Write a program that produces the following output using variables instead of\n",
    "hardcoding:"
   ]
  },
  {
   "cell_type": "code",
   "execution_count": 3,
   "id": "ff6824de",
   "metadata": {},
   "outputs": [
    {
     "name": "stdout",
     "output_type": "stream",
     "text": [
      "\n",
      "HHHHHH\n",
      " HHHHH\n",
      "   HHH\n",
      "    HH\n",
      "     H\n",
      "\n"
     ]
    }
   ],
   "source": [
    "print('''\n",
    "HHHHHH\n",
    " HHHHH\n",
    "   HHH\n",
    "    HH\n",
    "     H\n",
    "''')"
   ]
  },
  {
   "cell_type": "markdown",
   "id": "7fe236c3",
   "metadata": {},
   "source": [
    "Using only the techniques you have learned so far, write a program that calculates the square\n",
    "and cube of the numbers from 0 to 10 and uses tabs to print the following table of values:"
   ]
  },
  {
   "cell_type": "code",
   "execution_count": 8,
   "id": "2d492bb3",
   "metadata": {},
   "outputs": [
    {
     "name": "stdout",
     "output_type": "stream",
     "text": [
      "number\tsquare\tcube\n",
      "0 \t 0 \t 0\n",
      "1 \t 1 \t 1\n",
      "2 \t 4 \t 8\n",
      "3 \t 9 \t 27\n",
      "4 \t 16 \t 64\n",
      "5 \t 25 \t 125\n",
      "6 \t 36 \t 216\n",
      "7 \t 49 \t 343\n",
      "8 \t 64 \t 512\n",
      "9 \t 81 \t 729\n",
      "10 \t 100 \t 1000\n"
     ]
    }
   ],
   "source": [
    "a,b,c,d,e,f,g,h,i,j,k=0,1,2,3,4,5,6,7,8,9,10\n",
    "print(\"number\\tsquare\\tcube\")\n",
    "print(a, \"\\t\", a**2,\"\\t\",a**3)\n",
    "print(b, \"\\t\", b**2,\"\\t\",b**3)\n",
    "print(c, \"\\t\", c**2,\"\\t\",c**3)\n",
    "print(d, \"\\t\", d**2,\"\\t\",d**3)\n",
    "print(e, \"\\t\", e**2,\"\\t\",e**3)\n",
    "print(f, \"\\t\", f**2,\"\\t\",f**3)\n",
    "print(g, \"\\t\", g**2,\"\\t\",g**3)\n",
    "print(h, \"\\t\", h**2,\"\\t\",h**3)\n",
    "print(i, \"\\t\", i**2,\"\\t\",i**3)\n",
    "print(j, \"\\t\", j**2,\"\\t\",j**3)\n",
    "print(k, \"\\t\", k**2,\"\\t\",k**3)"
   ]
  },
  {
   "cell_type": "markdown",
   "id": "1f7af179",
   "metadata": {},
   "source": [
    "Write a program that reads an integer and determines and prints whether it is odd or even."
   ]
  },
  {
   "cell_type": "code",
   "execution_count": 6,
   "id": "c60bc18c",
   "metadata": {},
   "outputs": [
    {
     "name": "stdout",
     "output_type": "stream",
     "text": [
      "enter a number: 6\n",
      "6 you entered is an even\n"
     ]
    }
   ],
   "source": [
    "num = int(input(\"enter a number: \"))\n",
    "if num%2==0:\n",
    "    print(num,\"you entered is an even\")\n",
    "else:\n",
    "    print(\"you entered an odd number \")"
   ]
  },
  {
   "cell_type": "code",
   "execution_count": 7,
   "id": "d224e7fa",
   "metadata": {},
   "outputs": [
    {
     "name": "stdout",
     "output_type": "stream",
     "text": [
      "enter a number: 9\n",
      "you entered an odd number \n"
     ]
    }
   ],
   "source": [
    "num = int(input(\"enter a number: \"))\n",
    "if num%2==0:\n",
    "    print(num,\"you entered is an even\")\n",
    "else:\n",
    "    print(\"you entered an odd number \")"
   ]
  },
  {
   "cell_type": "markdown",
   "id": "f6e5b89c",
   "metadata": {},
   "source": [
    "Write a program that inputs three different integers from the keyboard, and then prints the\n",
    "smallest and the largest of these numbers. Use only the single-selection form of the if\n",
    "statement that you learned in the class. The screen dialogue should appear as follows:\n",
    "Input three different integers: 13 27 14\n",
    "Smallest is 13\n",
    "Largest is 27"
   ]
  },
  {
   "cell_type": "code",
   "execution_count": 3,
   "id": "f52c8ad1",
   "metadata": {},
   "outputs": [
    {
     "name": "stdout",
     "output_type": "stream",
     "text": [
      "enter first number13\n",
      "enter second number27\n",
      "enter third number14\n",
      "smallest number: 0\n",
      "largest number: 0\n"
     ]
    }
   ],
   "source": [
    "num1 =int(input(\"enter first number\"))\n",
    "num2=int(input(\"enter second number\"))\n",
    "num3=int(input(\"enter third number\"))\n",
    "small_num =0\n",
    "large_num =0\n",
    "if num1<num2<num3:\n",
    "    small_num=num1\n",
    "if num2<num1<num3:\n",
    "    small_num=num2\n",
    "if num3<num2<num1:\n",
    "    small_num=num3\n",
    "    \n",
    "if num1>num2>num3:\n",
    "    large_num=num1\n",
    "if num2>num1>num3:\n",
    "    large_num=num2\n",
    "if num3>num2>num1:\n",
    "    large_num=num3\n",
    "print(\"smallest number:\",small_num)\n",
    "print(\"largest number:\",large_num)"
   ]
  },
  {
   "cell_type": "markdown",
   "id": "60426e97",
   "metadata": {},
   "source": [
    "Write a program that assigns values to two variables and then swap their values. *"
   ]
  },
  {
   "cell_type": "code",
   "execution_count": 11,
   "id": "eed11acc",
   "metadata": {},
   "outputs": [
    {
     "name": "stdout",
     "output_type": "stream",
     "text": [
      "a 8\n",
      "b 5\n"
     ]
    }
   ],
   "source": [
    "a=5\n",
    "b=8\n",
    "a,b=b,a\n",
    "print(\"a\",a)\n",
    "print(\"b\",b)"
   ]
  },
  {
   "cell_type": "markdown",
   "id": "af254d4d",
   "metadata": {},
   "source": [
    "Which of the following expressions results in SyntaxErrors? Identify the syntax\n",
    "SyntaxErrors and type the reason of error along with the correct code by mentioning its\n",
    "sequence number.\n",
    "n. 6 * -----------8\n",
    "o. 8 = people\n",
    "p. ((((4 ** 3))))\n",
    "q. (-(-(-(-5))))\n",
    "r. 4 += 7 / 2\n"
   ]
  },
  {
   "cell_type": "code",
   "execution_count": 5,
   "id": "ef6a5fa9",
   "metadata": {},
   "outputs": [
    {
     "name": "stdout",
     "output_type": "stream",
     "text": [
      "48\n"
     ]
    }
   ],
   "source": [
    "print(6*------8)"
   ]
  },
  {
   "cell_type": "code",
   "execution_count": 6,
   "id": "8338eece",
   "metadata": {},
   "outputs": [
    {
     "ename": "NameError",
     "evalue": "name 'people' is not defined",
     "output_type": "error",
     "traceback": [
      "\u001b[1;31m---------------------------------------------------------------------------\u001b[0m",
      "\u001b[1;31mNameError\u001b[0m                                 Traceback (most recent call last)",
      "Cell \u001b[1;32mIn[6], line 1\u001b[0m\n\u001b[1;32m----> 1\u001b[0m \u001b[38;5;28mprint\u001b[39m(\u001b[38;5;241m8\u001b[39m\u001b[38;5;241m==\u001b[39m\u001b[43mpeople\u001b[49m)\n",
      "\u001b[1;31mNameError\u001b[0m: name 'people' is not defined"
     ]
    }
   ],
   "source": [
    "print(8==people)"
   ]
  },
  {
   "cell_type": "code",
   "execution_count": 8,
   "id": "f7bfcaf7",
   "metadata": {},
   "outputs": [
    {
     "name": "stdout",
     "output_type": "stream",
     "text": [
      "64\n"
     ]
    }
   ],
   "source": [
    "print((((4**3))))"
   ]
  },
  {
   "cell_type": "code",
   "execution_count": 9,
   "id": "140e4b5c",
   "metadata": {},
   "outputs": [
    {
     "name": "stdout",
     "output_type": "stream",
     "text": [
      "5\n"
     ]
    }
   ],
   "source": [
    "print(-(-(-(-5))))"
   ]
  },
  {
   "cell_type": "code",
   "execution_count": 10,
   "id": "59490bed",
   "metadata": {},
   "outputs": [
    {
     "ename": "SyntaxError",
     "evalue": "invalid syntax (302065406.py, line 1)",
     "output_type": "error",
     "traceback": [
      "\u001b[1;36m  Cell \u001b[1;32mIn[10], line 1\u001b[1;36m\u001b[0m\n\u001b[1;33m    print(4+=7/2)\u001b[0m\n\u001b[1;37m           ^\u001b[0m\n\u001b[1;31mSyntaxError\u001b[0m\u001b[1;31m:\u001b[0m invalid syntax\n"
     ]
    }
   ],
   "source": [
    "print(4+=7/2)"
   ]
  },
  {
   "cell_type": "markdown",
   "id": "11c85a6d",
   "metadata": {},
   "source": [
    "● Write a program that inputs one five-digit number, generates its reverse and displays the\n",
    "reverse on screen.(Hint: Make use of the arithmetic operators modulus (%) and floor (// )"
   ]
  },
  {
   "cell_type": "code",
   "execution_count": 12,
   "id": "7a8b2c57",
   "metadata": {},
   "outputs": [
    {
     "name": "stdout",
     "output_type": "stream",
     "text": [
      "enter a number78952\n",
      "reverse number: 25987\n"
     ]
    }
   ],
   "source": [
    "number=int(input(\"enter a number\"))\n",
    "digit1= number%10\n",
    "digit2 = (number//10)%10\n",
    "digit3 = (number//100)%10\n",
    "digit4 = (number//1000)%10\n",
    "digit5 = (number//10000)%10\n",
    "\n",
    "reverse = digit1*10000+digit2*1000+digit3*100+digit4*10+digit5\n",
    "print(\"reverse number:\", reverse)"
   ]
  },
  {
   "cell_type": "markdown",
   "id": "36d9b811",
   "metadata": {},
   "source": [
    "Using whatever we have learned so far, write a program that prints a box, an oval, an\n",
    "arrow and a diamond as follows:"
   ]
  },
  {
   "cell_type": "code",
   "execution_count": 17,
   "id": "9aabf526",
   "metadata": {},
   "outputs": [
    {
     "ename": "SyntaxError",
     "evalue": "unterminated string literal (detected at line 8) (3152308107.py, line 8)",
     "output_type": "error",
     "traceback": [
      "\u001b[1;36m  Cell \u001b[1;32mIn[17], line 8\u001b[1;36m\u001b[0m\n\u001b[1;33m    print(1*a,\"          \",1*a,\"            \",1*a,\"             \",1*a\"   \",1*a,\"          \",1*a\" ,       \",1*a\" ,)\u001b[0m\n\u001b[1;37m                                                                                                              ^\u001b[0m\n\u001b[1;31mSyntaxError\u001b[0m\u001b[1;31m:\u001b[0m unterminated string literal (detected at line 8)\n"
     ]
    }
   ],
   "source": [
    "a=\"*\"\n",
    "\n",
    "print(9*a,\"          \",3*a,\"                     \",1*a,\"               \",1*a)\n",
    "print(1*a,\"          \",1*a,\"            \",1*a,\"             \",1*a\"      \",3*a,\"           \",1*a,1*a)\n",
    "print(1*a,\"          \",1*a,\"            \",1*a,\"             \",1*a\"   \",5*a,\"               \",1*a\" ,\"1*a)  \n",
    "print(1*a,\"          \",1*a,\"            \",1*a,\"             \",1*a\"   \",1*a,\"               \",1*a\" ,       \"1*a)\n",
    "print(1*a,\"          \",1*a,\"            \",1*a,\"             \",1*a\"   \",1*a,\"            \",1*a\" ,      \"1*a)\n",
    "print(1*a,\"          \",1*a,\"            \",1*a,\"             \",1*a\"   \",1*a,\"          \",1*a\" ,       \",1*a\" ,)\n",
    "print(1*a,\"          \",1*a,\"            \",1*a,\"             \",1*a\"   \",1*a,\"                  \",1*a\" ,      \"1*a)\n",
    "print(1*a,\"          \",1*a,\"            \",1*a,\"             \",1*a\"   \",1*a,\"                     \",1*a\" ,\"1*a)\n",
    "print(1*a,\"          \",1*a,\"            \",1*a,\"             \",1*a\"   \",1*a,\"                  \",1*a\" ,\"1*a)\n",
    "print(1*a,\"          \",3*a,\"                       \",1*a,\"            \",1*a)\n"
   ]
  },
  {
   "cell_type": "code",
   "execution_count": null,
   "id": "4e43531f",
   "metadata": {},
   "outputs": [],
   "source": []
  }
 ],
 "metadata": {
  "kernelspec": {
   "display_name": "Python 3 (ipykernel)",
   "language": "python",
   "name": "python3"
  },
  "language_info": {
   "codemirror_mode": {
    "name": "ipython",
    "version": 3
   },
   "file_extension": ".py",
   "mimetype": "text/x-python",
   "name": "python",
   "nbconvert_exporter": "python",
   "pygments_lexer": "ipython3",
   "version": "3.10.9"
  }
 },
 "nbformat": 4,
 "nbformat_minor": 5
}
